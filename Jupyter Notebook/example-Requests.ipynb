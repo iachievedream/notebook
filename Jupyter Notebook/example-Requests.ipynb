{
 "cells": [
  {
   "cell_type": "markdown",
   "metadata": {},
   "source": [
    "[多功能的 Requests](https://morvanzhou.github.io/tutorials/data-manipulation/scraping/3-01-requests/)"
   ]
  },
  {
   "cell_type": "code",
   "execution_count": 1,
   "metadata": {},
   "outputs": [
    {
     "name": "stdout",
     "output_type": "stream",
     "text": [
      "http://www.baidu.com/s?wd=%E8%8E%AB%E7%83%A6Python\n"
     ]
    },
    {
     "data": {
      "text/plain": [
       "True"
      ]
     },
     "execution_count": 1,
     "metadata": {},
     "output_type": "execute_result"
    }
   ],
   "source": [
    "#網址搜尋方式\n",
    "import requests\n",
    "import webbrowser\n",
    "param = {\"wd\": \"莫烦Python\"}  # 搜索的信息\n",
    "r = requests.get('http://www.baidu.com/s', params=param)\n",
    "print(r.url)\n",
    "webbrowser.open(r.url)\n",
    "\n",
    "# http://www.baidu.com/s?wd=%E8%8E%AB%E7%83%A6Python\n",
    "#多功能的 Requests\n",
    "#https://morvanzhou.github.io/tutorials/data-manipulation/scraping/3-01-requests/"
   ]
  },
  {
   "cell_type": "code",
   "execution_count": 30,
   "metadata": {},
   "outputs": [
    {
     "name": "stdout",
     "output_type": "stream",
     "text": [
      "https://tw.mixrent.com/search.php?q=%E6%A1%83%E5%9C%92\n"
     ]
    },
    {
     "data": {
      "text/plain": [
       "True"
      ]
     },
     "execution_count": 30,
     "metadata": {},
     "output_type": "execute_result"
    }
   ],
   "source": [
    "#所需資料搜尋方式，住宿\n",
    "import requests\n",
    "import webbrowser\n",
    "param = {\"q\": \"桃園\"}  # 搜索的信息\n",
    "r = requests.get('https://tw.mixrent.com/search.php', params=param)\n",
    "print(r.url)\n",
    "webbrowser.open(r.url)\n",
    "\n",
    "#https://tw.mixrent.com/search.php?q=%E6%A1%83%E5%9C%92"
   ]
  },
  {
   "cell_type": "code",
   "execution_count": 1,
   "metadata": {},
   "outputs": [
    {
     "name": "stdout",
     "output_type": "stream",
     "text": [
      "https://tw.mixrent.com/search.php?q=%E6%A1%83%E5%9C%92\n",
      "$ 9000 近桃園火車站巨蛋龜山工業、超值獨立大套房 ------- 桃園市龜山區萬壽路二段\n",
      "$ 98000 [廠房] 桃園市區旁RC廠房出租 ------- 桃園市桃園區玉山街\n",
      "$ 7500 近三鶯工業區 桃園後火車站 有個人洗衣機 ------- 桃園市桃園區昆明路\n",
      "$ 9500 幸福公寓近桃園火車站大套房,可短租 ------- 桃園市桃園區民生路\n",
      "$ 5000 免仲費近桃園醫院公寓新網路套房租只付電 ------- 桃園市桃園區龍壽街145巷43號3樓、D室\n",
      "$ 8500 近桃園觀光夜市麗緻套房 ------- 桃園市桃園區慈文路\n",
      "$ 60000 桃園高鐵站商辦 ------- 桃園市大園區領航北路三段223號\n",
      "$ 12000 桃園國際路採光佳明亮住家 ------- 桃園市桃園區國際路一段1210巷1號\n",
      "$ 18000 【後站】桃園景觀絕佳二房 ------- 桃園市桃園區桃鶯路\n",
      "$ 30000 桃園區經國路金店面，挑高六米六的樓中樓 ------- 桃園市桃園區經國路529號\n"
     ]
    }
   ],
   "source": [
    "#爬取網頁資料\n",
    "import requests\n",
    "from bs4 import BeautifulSoup\n",
    "\n",
    "param = {\"q\": \"桃園\"}  # 搜索的信息\n",
    "r = requests.get('https://tw.mixrent.com/search.php', params=param)\n",
    "print(r.url)#列印當頁網址\n",
    "dom = requests.get(r.url).text #.text.未有太大差別\n",
    "soup = BeautifulSoup(dom, 'html')\n",
    "month = soup.find_all('div', {\"class\": \"rental_result\"}) #在div區塊中，class=rental_result抓取資料\n",
    "for ele in month:\n",
    "    print(\n",
    "        ele.find('span', {\"class\": \"label label-primary\"}).text,\n",
    "        ele.find('a', {\"id\":\"house_link\"}).text,\n",
    "        \"-------\",\n",
    "        ele.find('div', {\"class\":\"house_address\"}).text\n",
    "    )\n",
    "\n",
    "#https://tw.mixrent.com/search.php?q=%E5%8F%B0%E5%8C%97%E5%B8%82%E5%AE%BF%E8%88%8D"
   ]
  },
  {
   "cell_type": "code",
   "execution_count": 12,
   "metadata": {},
   "outputs": [
    {
     "name": "stdout",
     "output_type": "stream",
     "text": [
      "https://tw.mixrent.com/search.php?q=%E6%A1%83%E5%9C%92&pmin=&pmax=&smin=&smax=&page=1\n",
      "$ 45000 捷寶君品6Ｆ ▎近桃園福容飯 ▎租屋找生活房屋就對了 ------- 桃園市桃園區大興西路一段\n",
      "$ 7000 龜山2房出租、近市場桃園火車站 ------- 桃園市龜山區和平街15號\n",
      "$ 18000 桃園夜市附近超大坪數 ------- 桃園市桃園區正康二街\n",
      "$ 16000 超大3房，桃園精華區，生活便利一級棒~ ------- 桃園市桃園區力行路102號\n",
      "$ 1100000 桃園龍壽街廠辦 ------- 桃園市桃園區龍壽街\n",
      "$ 150000 桃園大面寬金店面25 ------- 桃園市桃園區\n",
      "$ 85800 桃園...頂級巨人商辦[不收取任何費用] ------- 桃園市桃園區中正路\n",
      "$ 8000 桃園市政府、桃園火車站，全新完工 生活機能優 ------- 桃園市桃園區中山路\n",
      "$ 8000 桃園藝文特區/同安街/電梯公寓 ------- 桃園市桃園區同安街\n",
      "$ 6000 桃園龍潭中原路4樓套房十坪便宜6000 ------- 桃園市龍潭區中原路一段56巷18弄3號\n",
      "https://tw.mixrent.com/search.php?q=%E6%A1%83%E5%9C%92&pmin=&pmax=&smin=&smax=&page=2\n",
      "$ 7500 桃園中平商圈超值陽台大套房近武陵高中愛買 ------- 桃園市桃園區宏昌七街96號\n",
      "$ 9500 北門國小旁，近桃園夜市，全新裝潢2+1房 ------- 桃園市桃園區大連二街\n",
      "$ 27000 桃園站前2樓店面 ------- 桃園市桃園區中華路\n",
      "$ 20000 臨近桃園市區 ------- 桃園市桃園區民光路55號\n",
      "$ 7500 近三鶯工業區 桃園後火車站 有個人洗衣機 ------- 桃園市桃園區昆明路\n",
      "$ 38000 公園美透天A19桃園高鐵青埔 ------- 桃園市中壢區永平街\n",
      "$ 1000 『小巢迷你倉』-桃園/蘆竹個人空間倉庫 ------- 桃園市蘆竹區南崁路一段36號\n",
      "$ 5500 免仲費近桃園高鐵站透天高級新網路大套房租 ------- 桃園市大園區中正東路三段306號1樓、601室\n",
      "$ 6500 桃園藝文特區同安街套房出租 ------- 桃園市桃園區同安街389號\n",
      "$ 23000 益展城心▎近桃園夜市 附家俱電 ------- 桃園市桃園區大華五街\n"
     ]
    }
   ],
   "source": [
    "#翻頁爬取網頁資料\n",
    "import requests\n",
    "from bs4 import BeautifulSoup\n",
    "\n",
    "for page in range(1,3): \n",
    "    url = 'https://tw.mixrent.com/search.php?q=%E6%A1%83%E5%9C%92&pmin=&pmax=&smin=&smax=&page=' + str(page)\n",
    "    print(url)#列印當頁網址\n",
    "    dom = requests.get(url).text #.text.未有太大差別\n",
    "    soup = BeautifulSoup(dom, 'html')\n",
    "    month = soup.find_all('div', {\"class\": \"rental_result\"}) #在div區塊中，class=rental_result抓取資料\n",
    "    for ele in month:\n",
    "        print(\n",
    "            ele.find('span', {\"class\": \"label label-primary\"}).text,\n",
    "            ele.find('a', {\"id\":\"house_link\"}).text,\n",
    "            \"-------\",\n",
    "            ele.find('div', {\"class\":\"house_address\"}).text\n",
    "        )"
   ]
  },
  {
   "cell_type": "code",
   "execution_count": 14,
   "metadata": {},
   "outputs": [
    {
     "name": "stdout",
     "output_type": "stream",
     "text": [
      "https://tw.mixrent.com/search.php?q=%E6%A1%83%E5%9C%92&pmin=&pmax=&smin=&smax=&page=1\n",
      "$ 45000\n",
      "$ 7000\n",
      "$ 18000\n",
      "$ 16000\n",
      "$ 1100000\n",
      "$ 150000\n",
      "$ 85800\n",
      "$ 8000\n",
      "$ 8000\n",
      "$ 6000\n",
      "https://tw.mixrent.com/search.php?q=%E6%A1%83%E5%9C%92&pmin=&pmax=&smin=&smax=&page=2\n",
      "$ 7500\n",
      "$ 9500\n",
      "$ 27000\n",
      "$ 20000\n",
      "$ 7500\n",
      "$ 38000\n",
      "$ 1000\n",
      "$ 5500\n",
      "$ 6500\n",
      "$ 23000\n"
     ]
    }
   ],
   "source": [
    "#翻頁爬取網頁資料\n",
    "import requests\n",
    "from bs4 import BeautifulSoup\n",
    "\n",
    "for page in range(1,3): \n",
    "    url = 'https://tw.mixrent.com/search.php?q=%E6%A1%83%E5%9C%92&pmin=&pmax=&smin=&smax=&page=' + str(page)\n",
    "    print(url)#列印當頁網址\n",
    "    dom = requests.get(url).text #.text.未有太大差別\n",
    "    soup = BeautifulSoup(dom, 'html')\n",
    "    A=soup.find_all(\"span\", {\"class\": \"label label-primary\"})\n",
    "    B=soup.find_all(\"a\", {\"class\": \"house_link\"})\n",
    "    C=soup.find_all(\"div\", {\"id\": \"house_address\"})\n",
    "    for m in A:\n",
    "        print(m.get_text())"
   ]
  },
  {
   "cell_type": "code",
   "execution_count": 7,
   "metadata": {},
   "outputs": [
    {
     "name": "stdout",
     "output_type": "stream",
     "text": [
      "http://www.99kubo.tv/vod-play-id-72568-sid-2-pid-1-flv.html\n",
      "http://www.99kubo.tv/vod-play-id-72568-sid-2-pid-2-flv.html\n",
      "http://www.99kubo.tv/vod-play-id-72568-sid-2-pid-3-flv.html\n",
      "http://www.99kubo.tv/vod-play-id-72568-sid-2-pid-4-flv.html\n",
      "http://www.99kubo.tv/vod-play-id-72568-sid-2-pid-5-flv.html\n",
      "http://www.99kubo.tv/vod-play-id-72568-sid-2-pid-6-flv.html\n",
      "http://www.99kubo.tv/vod-play-id-72568-sid-2-pid-7-flv.html\n",
      "http://www.99kubo.tv/vod-play-id-72568-sid-2-pid-8-flv.html\n",
      "http://www.99kubo.tv/vod-play-id-72568-sid-2-pid-9-flv.html\n",
      "http://www.99kubo.tv/vod-play-id-72568-sid-2-pid-10-flv.html\n",
      "http://www.99kubo.tv/vod-play-id-72568-sid-2-pid-11-flv.html\n",
      "http://www.99kubo.tv/vod-play-id-72568-sid-2-pid-12-flv.html\n",
      "http://www.99kubo.tv/vod-play-id-72568-sid-2-pid-13-flv.html\n",
      "http://www.99kubo.tv/vod-play-id-72568-sid-2-pid-14-flv.html\n"
     ]
    }
   ],
   "source": [
    "#翻頁爬取網頁，網址複雜\n",
    "import requests, bs4\n",
    "for page in range(1,15): \n",
    "    url = 'http://www.99kubo.tv/vod-play-id-72568-sid-2-pid-'+str(page)+'-flv.html'\n",
    "    r = requests.get(url)\n",
    "    r.encoding = 'utf-8'\n",
    "    soup = bs4.BeautifulSoup(r.text, 'lxml')\n",
    "    company=soup.select('.aw-question-content p a')\n",
    "    a_text = [c.get_text()for c in company]\n",
    "    print(r.url)#列印當頁網址\n"
   ]
  },
  {
   "cell_type": "code",
   "execution_count": 10,
   "metadata": {},
   "outputs": [
    {
     "data": {
      "text/plain": [
       "'\\n#翻頁爬取網頁資料\\nimport requests\\nfrom bs4 import BeautifulSoup\\n\\nfor page in range(1,22): \\n    url = \\'https://www.bookscool.com/%E4%BD%99%E5%85%89%E4%B8%AD-%E8%A8%98%E6%86%B6%E5%83%8F%E9%90%B5%E8%BB%8C%E4%B8%80%E6%A8%A3%E9%95%B7.php/\\' + str(page)+\\'.xhtml\\'\\n    print(url)#列印當頁網址\\n\\n    dom = requests.get(url).text #.text.未有太大差別\\n    soup = BeautifulSoup(dom, \\'html\\')\\n    month = soup.find_all(\\'div\\', {\"id\": \"html\"}) #在div區塊中，class=rental_result抓取資料\\n    for ele in month:\\n        print(\\n            ele.find(\\'div\\').text\\n        )\\n'"
      ]
     },
     "execution_count": 10,
     "metadata": {},
     "output_type": "execute_result"
    }
   ],
   "source": [
    "#合併不同頁面之資料，以方便搜尋\n",
    "\"\"\"\n",
    "#翻頁爬取網頁資料\n",
    "import requests\n",
    "from bs4 import BeautifulSoup\n",
    "\n",
    "for page in range(1,22): \n",
    "    url = 'https://www.bookscool.com/%E4%BD%99%E5%85%89%E4%B8%AD-%E8%A8%98%E6%86%B6%E5%83%8F%E9%90%B5%E8%BB%8C%E4%B8%80%E6%A8%A3%E9%95%B7.php/' + str(page)+'.xhtml'\n",
    "    print(url)#列印當頁網址\n",
    "\n",
    "    dom = requests.get(url).text #.text.未有太大差別\n",
    "    soup = BeautifulSoup(dom, 'html')\n",
    "    month = soup.find_all('div', {\"id\": \"html\"}) #在div區塊中，class=rental_result抓取資料\n",
    "    for ele in month:\n",
    "        print(\n",
    "            ele.find('div').text\n",
    "        )\n",
    "\"\"\""
   ]
  },
  {
   "cell_type": "code",
   "execution_count": null,
   "metadata": {},
   "outputs": [],
   "source": []
  },
  {
   "cell_type": "code",
   "execution_count": null,
   "metadata": {},
   "outputs": [],
   "source": []
  }
 ],
 "metadata": {
  "kernelspec": {
   "display_name": "Python 3",
   "language": "python",
   "name": "python3"
  },
  "language_info": {
   "codemirror_mode": {
    "name": "ipython",
    "version": 3
   },
   "file_extension": ".py",
   "mimetype": "text/x-python",
   "name": "python",
   "nbconvert_exporter": "python",
   "pygments_lexer": "ipython3",
   "version": "3.7.3"
  }
 },
 "nbformat": 4,
 "nbformat_minor": 4
}
