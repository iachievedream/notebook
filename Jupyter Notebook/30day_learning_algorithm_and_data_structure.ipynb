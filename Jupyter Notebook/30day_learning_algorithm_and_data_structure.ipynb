{
 "cells": [
  {
   "cell_type": "code",
   "execution_count": 17,
   "metadata": {},
   "outputs": [
    {
     "name": "stdout",
     "output_type": "stream",
     "text": [
      "[23, 23, 29, 34, 55, 66, 67, 78, 78, 79, 88, 89, 92, 96, 96, 100]\n"
     ]
    }
   ],
   "source": [
    "# [演算法] 桶子排序法 (Bucket Sort)\n",
    "# 程式時間複雜度：O(M+N)\n",
    "data = [89, 34, 23, 78, 67, 100, 66, 29, 79, 55, 78, 88, 92, 96, 96, 23]\n",
    "\n",
    "def bucketsort(data):\n",
    "    max_score = 100\n",
    "    bucket = []\n",
    "    \n",
    "    for i in range(max_score+1):\n",
    "        bucket.append(0)\n",
    "    for score in data:\n",
    "        bucket[score] = bucket[score] + 1\n",
    "\n",
    "    index = 0\n",
    "    for i in range(len(bucket)):\n",
    "        if bucket[i] != 0:\n",
    "            for j in range(bucket[i]):\n",
    "                data[index] = i\n",
    "                index += 1\n",
    "\n",
    "bucketsort(data)\n",
    "print(data)"
   ]
  },
  {
   "cell_type": "code",
   "execution_count": 14,
   "metadata": {},
   "outputs": [
    {
     "name": "stdout",
     "output_type": "stream",
     "text": [
      "[['Damon', 25], ['Jane', 31], ['Julia', 44], ['Abby', 58], ['Caroline', 65], ['Stephen', 76], ['Elena', 76], ['Ryn', 82], ['James', 87], ['Justin', 99]]\n"
     ]
    }
   ],
   "source": [
    "# 花式自虐 進階練習\n",
    "data = [['Abby', 58], ['Julia', 44], ['Jane', 31], ['Stephen', 76], ['Ryn', 82], ['Justin', 99], ['Caroline', 65], ['James', 87], ['Damon', 25], ['Elena', 76]]\n",
    "\n",
    "def bucketsort_hash(data):\n",
    "    max_score = 100\n",
    "    bucket = []\n",
    "    bucket_num = lambda x: int(x/33)\n",
    "    \n",
    "    for i in range(bucket_num(max_score)+1):\n",
    "        bucket.append([])\n",
    "\n",
    "    for x in data:\n",
    "        index = bucket_num(x[1])\n",
    "        bucket[index].append(x)\n",
    "\n",
    "    for i, flag in enumerate(bucket):\n",
    "        if flag != [] :\n",
    "            bucket[i] = sorted(bucket[i], key=lambda x: x[1])\n",
    "\n",
    "    index = 0\n",
    "    for i in bucket:\n",
    "        if i != []:\n",
    "            for j in i:\n",
    "                data[index] = j\n",
    "                index += 1\n",
    "\n",
    "bucketsort_hash(data)\n",
    "print(data)"
   ]
  },
  {
   "cell_type": "code",
   "execution_count": 15,
   "metadata": {},
   "outputs": [
    {
     "name": "stdout",
     "output_type": "stream",
     "text": [
      "[23, 23, 29, 34, 55, 66, 67, 78, 78, 79, 88, 89, 92, 96, 96, 100]\n"
     ]
    }
   ],
   "source": [
    "# [演算法] 泡沫排序 (Bubble Sort)\n",
    "data = [89, 34, 23, 78, 67, 100, 66, 29, 79, 55, 78, 88, 92, 96, 96, 23]\n",
    "\n",
    "def bubblesort(data):\n",
    "    # 定義資料長度\n",
    "    n = len(data)\n",
    "    for i in range(n-2):                   # 有 n 個資料長度，但只要執行 n-1 次\n",
    "        for j in range(n-i-1):             # 從第1個開始比較直到最後一個還沒到最終位置的數字 \n",
    "            if data[j] > data[j+1]:        # 比大小然後互換\n",
    "                data[j], data[j+1] = data[j+1], data[j]\n",
    "\n",
    "bubblesort(data)\n",
    "print(data)"
   ]
  },
  {
   "cell_type": "code",
   "execution_count": 18,
   "metadata": {},
   "outputs": [
    {
     "name": "stdout",
     "output_type": "stream",
     "text": [
      "[23, 23, 29, 34, 55, 66, 67, 78, 78, 79, 88, 89, 92, 96, 96, 100]\n"
     ]
    }
   ],
   "source": [
    "# [演算法] 快速排序法 (Quick Sort)\n",
    "# 程式時間複雜度 Ｏ(NlogN)\n",
    "data = [89, 34, 23, 78, 67, 100, 66, 29, 79, 55, 78, 88, 92, 96, 96, 23]\n",
    "\n",
    "def quicksort(data, left, right): # 輸入資料，和從兩邊開始的位置\n",
    "    if left >= right :            # 如果左邊大於右邊，就跳出function\n",
    "        return\n",
    "\n",
    "    i = left                      # 左邊的代理人\n",
    "    j = right                     # 右邊的代理人\n",
    "    key = data[left]                 # 基準點\n",
    "\n",
    "    while i != j:                  \n",
    "        while data[j] > key and i < j:   # 從右邊開始找，找比基準點小的值\n",
    "            j -= 1\n",
    "        while data[i] <= key and i < j:  # 從左邊開始找，找比基準點大的值\n",
    "            i += 1\n",
    "        if i < j:                        # 當左右代理人沒有相遇時，互換值\n",
    "            data[i], data[j] = data[j], data[i] \n",
    "\n",
    "    # 將基準點歸換至代理人相遇點\n",
    "    data[left] = data[i] \n",
    "    data[i] = key\n",
    "\n",
    "    quicksort(data, left, i-1)   # 繼續處理較小部分的子循環\n",
    "    quicksort(data, i+1, right)  # 繼續處理較大部分的子循環\n",
    "\n",
    "quicksort(data, 0, len(data)-1)\n",
    "print(data)\n"
   ]
  },
  {
   "cell_type": "code",
   "execution_count": 19,
   "metadata": {},
   "outputs": [
    {
     "name": "stdout",
     "output_type": "stream",
     "text": [
      "[23, 23, 29, 34, 55, 66, 67, 78, 78, 79, 88, 89, 92, 96, 96, 100]\n"
     ]
    }
   ],
   "source": [
    "# [演算法] 基數排序法 (Radix Sort)\n",
    "# 程式時間複雜度：Ｏ(kN)，k 取決於位元的位數。\n",
    "\n",
    "data = [89, 34, 23, 78, 67, 100, 66, 29, 79, 55, 78, 88, 92, 96, 96, 23]\n",
    "\n",
    "# Radix sort\n",
    "def radixsort(data):\n",
    "    length = len(data)\n",
    "    count = max(data) # 資料裡最大的數值\n",
    "\n",
    "    # 用最大數來判斷最大位數\n",
    "    digit = 1\n",
    "    while count > 9:\n",
    "        count /= 10\n",
    "        digit += 1\n",
    "\n",
    "    tmp = []\n",
    "    cur = 0\n",
    "    for i in range(length):    # 資料的大小會決定桶子的數量，會是一個二維陣列\n",
    "        tmp.append([0] * length)\n",
    "    order = [0] * length       # 游標行，用來將資料放到同一位數但不同列的桶子\n",
    "\n",
    "    if digit <= 9:\n",
    "        '''use LSD(Least significant digit) method '''\n",
    "        n = 1\n",
    "        while n <= max(data):\n",
    "            for i in range(length):\n",
    "                lsd = int(data[i]/n) % 10  # 將資料用10來取個位數的餘數\n",
    "                tmp[lsd][order[lsd]] = data[i]\n",
    "                order[lsd] += 1\n",
    "            for i in range(length):\n",
    "                # 如果這個位數的桶子在此行有資料，就丟到同一個位數，但下一列的位置\n",
    "                if order[i] != 0:\n",
    "                    for j in range(order[i]):\n",
    "                        data[cur] = tmp[i][j]\n",
    "                        cur += 1\n",
    "                # 將游標行的資料歸零\n",
    "                order[i] = 0\n",
    "            n *= 10\n",
    "            cur = 0\n",
    "        print(data)\n",
    "        \n",
    "radixsort(data)\n",
    "# 其實懂這個做法的邏輯後，可以試著自己挑戰 MSD 看看。上面的範例我用 9 位數來做 LSD 和 MSD 的分界。程式一樣可以執行，其他的就交給讀著動手做囉。\n",
    "\n"
   ]
  },
  {
   "cell_type": "markdown",
   "metadata": {},
   "source": [
    "[[演算法] 列舉法 (Enumeration)](https://ithelp.ithome.com.tw/articles/10203390)"
   ]
  },
  {
   "cell_type": "code",
   "execution_count": 21,
   "metadata": {},
   "outputs": [
    {
     "name": "stdout",
     "output_type": "stream",
     "text": [
      "5 3 4 7 6 8 9 1 2\n",
      "5 3 4 9 1 2 7 6 8\n",
      "7 6 8 5 3 4 9 1 2\n",
      "7 6 8 9 1 2 5 3 4\n",
      "9 1 2 5 3 4 7 6 8\n",
      "9 1 2 7 6 8 5 3 4\n"
     ]
    }
   ],
   "source": [
    "# [演算法] 列舉法 (Enumeration)\n",
    "from copy import copy\n",
    "list_1to9=[1,2,3,4,5,6,7,8,9]\n",
    "\n",
    "#在b層建一個新的1-9，然後pop掉取過的，C層再複製b取過的，建一個新的1-9，pop調取過的\n",
    "#d層再複製c層取過的，建新的1-9.....以下同上。這樣就最後一行就不用再把取過的加回去了。\n",
    "\n",
    "# 如果再稍稍修改，效率會再更好喔\n",
    "for a in list_1to9:        # a從list_1to9取數字\n",
    "\tlist_a=copy(list_1to9)   # list_a複製list_1to9\n",
    "\tlist_a.remove(a)         # 將a選取的數字從list_a去除，留下可以繼續被選取的字給b\n",
    "\tfor b in list_a:         # b從list_a取數字\n",
    "\t\tlist_b=copy(list_a)  # list_b複製list_a\n",
    "\t\tlist_b.remove(b)     # 將b選取的數字從list_b去除，留下可以繼續被選取的字給c\n",
    "\t\tfor c in list_b:\n",
    "\t\t\tlist_c=copy(list_b)\n",
    "\t\t\tlist_c.remove(c)\n",
    "\t\t\tfor d in list_c:\n",
    "\t\t\t\tlist_d=copy(list_c)\n",
    "\t\t\t\tlist_d.remove(d)\n",
    "\t\t\t\tfor e in list_d:\n",
    "\t\t\t\t\tlist_e=copy(list_d)\n",
    "\t\t\t\t\tlist_e.remove(e)\n",
    "\t\t\t\t\tfor f in list_e:\n",
    "\t\t\t\t\t\tlist_f=copy(list_e)\n",
    "\t\t\t\t\t\tlist_f.remove(f)\n",
    "\t\t\t\t\t\tfor g in list_f:\n",
    "\t\t\t\t\t\t\tlist_g=copy(list_f)\n",
    "\t\t\t\t\t\t\tlist_g.remove(g)\n",
    "\t\t\t\t\t\t\tfor h in list_g:\n",
    "\t\t\t\t\t\t\t\tlist_h=copy(list_g)\n",
    "\t\t\t\t\t\t\t\tlist_h.remove(h)\n",
    "\t\t\t\t\t\t\t\tfor i in list_h:\n",
    "                                    #這時候選取完所有的數字，並填入方程式進行驗證，如果為是，輸出結果；如果為否，則沿著迴圈h到迴圈a一一測試各種可能。\n",
    "\t\t\t\t\t\t\t\t\tif (a/(b*10.+c)+d/(e*10.+f)+g/(h*10.+i))==1: \n",
    "\t\t\t\t\t\t\t\t\t\tprint (a,b,c,d,e,f,g,h,i) "
   ]
  },
  {
   "cell_type": "code",
   "execution_count": 27,
   "metadata": {},
   "outputs": [
    {
     "name": "stdout",
     "output_type": "stream",
     "text": [
      "5.0625\n"
     ]
    }
   ],
   "source": [
    "a=5\n",
    "b=3\n",
    "c=4\n",
    "d=7\n",
    "e=6\n",
    "f=8\n",
    "g=9\n",
    "h=1\n",
    "i=2\n",
    "print(a/(b*c)+d/(e*f)+g/(h*i))"
   ]
  },
  {
   "cell_type": "code",
   "execution_count": null,
   "metadata": {},
   "outputs": [],
   "source": []
  }
 ],
 "metadata": {
  "kernelspec": {
   "display_name": "Python 3",
   "language": "python",
   "name": "python3"
  },
  "language_info": {
   "codemirror_mode": {
    "name": "ipython",
    "version": 3
   },
   "file_extension": ".py",
   "mimetype": "text/x-python",
   "name": "python",
   "nbconvert_exporter": "python",
   "pygments_lexer": "ipython3",
   "version": "3.7.3"
  }
 },
 "nbformat": 4,
 "nbformat_minor": 4
}
