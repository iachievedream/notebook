{
 "cells": [
  {
   "cell_type": "markdown",
   "metadata": {},
   "source": [
    "[Python MySQL mysql-connector 驱动](http://www.runoob.com/python3/python-mysql-connector.html)\n",
    "\n",
    "我们可以使用 pip 命令来安装 mysql-connector<br>\n",
    "pip3 install PyMySQL<br>\n",
    "python -m pip install mysql-connector\n",
    "\n",
    "[Python爬取数据并写入MySQL数据库  (尚未練習完全)](https://blog.csdn.net/Oscer2016/article/details/70257956)\n",
    "\n",
    "~~~\n",
    "#!/usr/bin/env python\n",
    "# coding=utf-8\n",
    "\n",
    "import requests\n",
    "from bs4 import BeautifulSoup\n",
    "import MySQLdb\n",
    "\n",
    "print('连接到mysql服务器...')\n",
    "db = MySQLdb.connect(\"localhost\",\"hp\",\"Hp12345.\",\"TESTDB\")\n",
    "print('连接上了!')\n",
    "cursor = db.cursor()\n",
    "cursor.execute(\"DROP TABLE IF EXISTS COLOR\")\n",
    "sql = \"\"\"CREATE TABLE COLOR (\n",
    "        Color CHAR(20) NOT NULL,\n",
    "        Value CHAR(10),\n",
    "        Style CHAR(50) )\"\"\"\n",
    "\n",
    "cursor.execute(sql)\n",
    "\n",
    "hdrs = {'User-Agent':'Mozilla/5.0 (X11; Fedora; Linux x86_64) AppleWebKit/537.36 (KHTML, like Gecko)'}\n",
    "\n",
    "url = \"http://html-color-codes.info/color-names/\"\n",
    "\n",
    "r = requests.get(url, headers = hdrs)\n",
    "soup = BeautifulSoup(r.content.decode('gbk', 'ignore'), 'lxml')\n",
    "trs = soup.find_all('tr')   # 获取全部tr标签成为一个列表\n",
    "for tr in trs:              # 遍历列表里所有的tr标签单项\n",
    "    style = tr.get('style') # 获取每个tr标签里的属性style\n",
    "    tds = tr.find_all('td') # 将每个tr标签下的td标签获取为列表\n",
    "    td = [x for x in tds]   # 获取的列表\n",
    "    name = td[1].text.strip()       # 直接从列表里取值\n",
    "    hex = td[2].text.strip()\n",
    "    # print u'颜色: ' + name + u'颜色值: '+ hex + u'背景色样式: ' + style\n",
    "    # print 'color: ' + name + '\\tvalue: '+ hex + '\\tstyle: ' + style\n",
    "    insert_color = (\"INSERT INTO COLOR(Color,Value,Style)\" \"VALUES(%s,%s,%s)\")\n",
    "    data_color = (name, hex, style)\n",
    "    cursor.execute(insert_color, data_color)\n",
    "    db.commit()\n",
    "    # print '******完成此条插入!' \n",
    "~~~"
   ]
  },
  {
   "cell_type": "code",
   "execution_count": 2,
   "metadata": {},
   "outputs": [],
   "source": [
    "#使用以下代码测试 mysql-connector 是否安装成功：demo_mysql_test.py:\n",
    "import mysql.connector\n",
    "#执行以上代码，如果没有产生错误，表明安装成功。"
   ]
  },
  {
   "cell_type": "code",
   "execution_count": 1,
   "metadata": {},
   "outputs": [
    {
     "name": "stdout",
     "output_type": "stream",
     "text": [
      "<mysql.connector.connection.MySQLConnection object at 0x0000022D631E1240>\n",
      "('information_schema',)\n",
      "('mydata',)\n",
      "('mysql',)\n",
      "('performance_schema',)\n",
      "('python',)\n",
      "('stockdatabase',)\n",
      "('sys',)\n"
     ]
    }
   ],
   "source": [
    "#Add database python\n",
    "import mysql.connector\n",
    "mydb = mysql.connector.connect(\n",
    "  host=\"localhost\",       # 数据库主机地址\n",
    "  user=\"root\",    # 数据库用户名\n",
    "  passwd=\"a1234567\"   # 数据库密码\n",
    ")\n",
    "print(mydb)\n",
    "\n",
    "mycursor = mydb.cursor()\n",
    "mycursor.execute(\"CREATE DATABASE python\") #Add database python\n",
    "\n",
    "mycursor.execute(\"SHOW DATABASES\") #see database\n",
    "for x in mycursor:\n",
    "  print(x)"
   ]
  },
  {
   "cell_type": "code",
   "execution_count": 2,
   "metadata": {},
   "outputs": [
    {
     "name": "stdout",
     "output_type": "stream",
     "text": [
      "<mysql.connector.connection.MySQLConnection object at 0x0000022D632D1128>\n",
      "('web',)\n"
     ]
    }
   ],
   "source": [
    "#Add table web\n",
    "\n",
    "import mysql.connector\n",
    "mydb = mysql.connector.connect(\n",
    "  host=\"localhost\",       # 数据库主机地址\n",
    "  user=\"root\",    # 数据库用户名\n",
    "  passwd=\"a1234567\",   # 数据库密码\n",
    "  database=\"python\"\n",
    ")\n",
    "print(mydb)\n",
    "\n",
    "mycursor = mydb.cursor()\n",
    "\n",
    "mycursor.execute(\"CREATE TABLE web (name VARCHAR(255), url VARCHAR(255))\") #Add table web\n",
    "#mycursor.execute(\"ALTER TABLE web ADD COLUMN id INT AUTO_INCREMENT PRIMARY KEY\")\n",
    "\n",
    "#>>mycursor.execute(\"CREATE TABLE web (id INT AUTO_INCREMENT PRIMARY KEY, name VARCHAR(255), url VARCHAR(255))\")\n",
    "\n",
    "mycursor.execute(\"SHOW TABLES\")\n",
    "for x in mycursor:\n",
    "  print(x)"
   ]
  },
  {
   "cell_type": "code",
   "execution_count": 3,
   "metadata": {},
   "outputs": [
    {
     "name": "stdout",
     "output_type": "stream",
     "text": [
      "1 记录插入成功。\n"
     ]
    },
    {
     "data": {
      "text/plain": [
       "'\\nsql = \"INSERT INTO web (name, url) VALUES (%s, %s)\"\\nval = [\\n  (\\'Google\\', \\'https://www.google.com\\'),\\n  (\\'Github\\', \\'https://www.github.com\\'),\\n  (\\'Taobao\\', \\'https://www.taobao.com\\'),\\n  (\\'stackoverflow\\', \\'https://www.stackoverflow.com/\\')\\n]\\nmycursor.executemany(sql, val)\\nmydb.commit()    # 数据表内容有更新，必须使用到该语句\\nprint(mycursor.rowcount, \"记录插入成功。\")\\n'"
      ]
     },
     "execution_count": 3,
     "metadata": {},
     "output_type": "execute_result"
    }
   ],
   "source": [
    "#INSERT INTOimport mysql.connector\n",
    "\n",
    "mydb = mysql.connector.connect(\n",
    "  host=\"localhost\",\n",
    "  user=\"root\",\n",
    "  passwd=\"a1234567\",\n",
    "  database=\"python\"\n",
    ")\n",
    "mycursor = mydb.cursor()\n",
    "\n",
    "sql = \"INSERT INTO web (name, url) VALUES (%s, %s)\"\n",
    "val = (\"RUNOOB\", \"https://www.runoob.com\")\n",
    "mycursor.execute(sql, val)\n",
    "mydb.commit()    # 数据表内容有更新，必须使用到该语句\n",
    "print(mycursor.rowcount, \"记录插入成功。\")\n",
    "\n",
    "\"\"\"\n",
    "sql = \"INSERT INTO web (name, url) VALUES (%s, %s)\"\n",
    "val = [\n",
    "  ('Google', 'https://www.google.com'),\n",
    "  ('Github', 'https://www.github.com'),\n",
    "  ('Taobao', 'https://www.taobao.com'),\n",
    "  ('stackoverflow', 'https://www.stackoverflow.com/')\n",
    "]\n",
    "mycursor.executemany(sql, val)\n",
    "mydb.commit()    # 数据表内容有更新，必须使用到该语句\n",
    "print(mycursor.rowcount, \"记录插入成功。\")\n",
    "\"\"\""
   ]
  },
  {
   "cell_type": "code",
   "execution_count": null,
   "metadata": {},
   "outputs": [],
   "source": []
  }
 ],
 "metadata": {
  "kernelspec": {
   "display_name": "Python 3",
   "language": "python",
   "name": "python3"
  },
  "language_info": {
   "codemirror_mode": {
    "name": "ipython",
    "version": 3
   },
   "file_extension": ".py",
   "mimetype": "text/x-python",
   "name": "python",
   "nbconvert_exporter": "python",
   "pygments_lexer": "ipython3",
   "version": "3.7.0"
  }
 },
 "nbformat": 4,
 "nbformat_minor": 2
}
